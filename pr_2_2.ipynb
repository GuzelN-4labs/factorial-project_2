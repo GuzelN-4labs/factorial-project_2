{
 "cells": [
  {
   "cell_type": "code",
   "execution_count": null,
   "id": "26d43e9f-bd1f-4618-99aa-ed9c7289a5fe",
   "metadata": {},
   "outputs": [],
   "source": [
    "# function\n",
    "def factorial(n):\n",
    "    if n<0:\n",
    "        raise ValueError(\"Factorial can be defined for non-negative integers only\")\n",
    "    elif n==0 or n == 1:\n",
    "        return 1\n",
    "    else:\n",
    "        return n*factorial(n-1)\n",
    "        \n",
    "# function test\n",
    "print(factorial(5))\n",
    "try:\n",
    "    print(factorial(-1))\n",
    "except ValueError as e:\n",
    "    print(e)"
   ]
  },
  {
   "cell_type": "code",
   "execution_count": null,
   "id": "5d4dadd8-bf31-48e9-ba3f-424cb6968c10",
   "metadata": {},
   "outputs": [],
   "source": [
    "# Iterative input\n",
    "number = int(input(\"Input a number to compute its factoral: \"))\n",
    "print(f\"Factoral of {number} equals to {factorial(number)}\")"
   ]
  }
 ],
 "metadata": {
  "kernelspec": {
   "display_name": "Python 3 (ipykernel)",
   "language": "python",
   "name": "python3"
  },
  "language_info": {
   "codemirror_mode": {
    "name": "ipython",
    "version": 3
   },
   "file_extension": ".py",
   "mimetype": "text/x-python",
   "name": "python",
   "nbconvert_exporter": "python",
   "pygments_lexer": "ipython3",
   "version": "3.12.5"
  }
 },
 "nbformat": 4,
 "nbformat_minor": 5
}
